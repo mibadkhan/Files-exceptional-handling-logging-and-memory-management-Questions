{
  "nbformat": 4,
  "nbformat_minor": 0,
  "metadata": {
    "colab": {
      "provenance": []
    },
    "kernelspec": {
      "name": "python3",
      "display_name": "Python 3"
    },
    "language_info": {
      "name": "python"
    }
  },
  "cells": [
    {
      "cell_type": "markdown",
      "source": [
        "# THEORY ANSWERS\n"
      ],
      "metadata": {
        "id": "zjKlqg7xDus0"
      }
    },
    {
      "cell_type": "markdown",
      "source": [
        "1) What is the difference between interpreted and compiled languages?\n",
        "    \n",
        "    -) (a) A compiled language is a programming language whose implementations\n",
        "    are typically compilers and not interpreters.\n",
        "\n",
        "    while an interpreted language is a programming language whose implementations execute instructions directly and freely, without previously compiling a program into machine-language instructions.\n",
        "\n",
        "    (b) once the program is compiled it is expressed in the instructions of the target machine.\n",
        "     \n",
        "    While in ininterpreted language, the instructions are not directly executed by the target machine.\n",
        "\n",
        "    (c) In compiled language errors prevent the code from compiling.\n",
        "\n",
        "    While in ininterpreted language all the debugging occurs at run-time.\n",
        "\n",
        "    (d) Example of compiled language - C, C++, C#, CLEO, COBOL, etc.\n",
        "\n",
        "    Example of Interpreted language - JavaScript, Perl, Python, BASIC, etc."
      ],
      "metadata": {
        "id": "nRKruFwIDsWh"
      }
    },
    {
      "cell_type": "markdown",
      "source": [
        "2) What is exception handling in Python?\n",
        "    \n",
        "    -) In Python exception handling handles errors that occur during the execution of a program. Exception handling allows to respond to the error, instead of crashing the running program. It enables you to catch and manage errors, making your code more robust and user-friendly.\n",
        "    "
      ],
      "metadata": {
        "id": "BuqPf6TXF1IP"
      }
    },
    {
      "cell_type": "markdown",
      "source": [
        "3) What is the purpose of the finally block in exception handling?\n",
        "    \n",
        "    -) Finally block always runs, regardless of whether an exception occurred or not. It is typically used for cleanup operations (closing files, releasing resources).\n",
        "\n",
        "    Even if we enter exception block or not, finally will be executed always similar to running other line of code."
      ],
      "metadata": {
        "id": "hN7uvyvNGN3i"
      }
    },
    {
      "cell_type": "markdown",
      "source": [
        "4) What is logging in Python?\n",
        "\n",
        "    -) Python logging is a module that allows you to track events that occur while your program is running. You can use logging to record information about errors, warnings, and other events that occur during program execution. And logging is a useful tool for debugging, troubleshooting, and monitoring your program."
      ],
      "metadata": {
        "id": "nsa8a1oKGXv_"
      }
    },
    {
      "cell_type": "markdown",
      "source": [
        "5) What is the significance of the __del__ method in Python?\n",
        "    \n",
        "    -) The del keyword is used to delete objects. In Python everything is an object, so the del keyword can also be used to delete variables, lists, or parts of a list etc.\n",
        "    eg:(a)\n",
        "    x = \"hello\"\n",
        "\n",
        "    del x\n",
        "\n",
        "    print(x)\n",
        "\n",
        "    (b)\n",
        "    x = [\"apple\", \"banana\", \"cherry\"]\n",
        "\n",
        "    del x[0]\n",
        "\n",
        "    print(x)"
      ],
      "metadata": {
        "id": "mg73Ldf3G8me"
      }
    },
    {
      "cell_type": "markdown",
      "source": [
        "6) What is the difference between import and from ... import in Python?\n",
        "    \n",
        "    -) The difference between **import and from...import** in Python is:\n",
        "\n",
        "      **import** imports an entire code library.\n",
        "\n",
        "      **from import** imports a specific member or members of the library.\n",
        "\n",
        "    For example,  import the datetime module as a whole:\n",
        "    \n",
        "      import datetime\n",
        "      d1 = datetime.date(2021, 10, 19)\n",
        "\n",
        "    In comparison, only import the date class from the datetime module:\n",
        "\n",
        "      from datetime import date\n",
        "      d1 = date(2021, 10, 19)\n",
        "\n",
        "    Now we can directly call the imported date function instead of accessing it via datetime.date.\n",
        "\n",
        "    Using from import can save you from repeating the module name when you need to use its code many times in your code project"
      ],
      "metadata": {
        "id": "rMhqaox4HncA"
      }
    },
    {
      "cell_type": "markdown",
      "source": [
        "7) How can you handle multiple exceptions in Python?\n",
        "    \n",
        "    -) we can handle multiple exceptions in Python-\n",
        "    eg:\n",
        "      try:\n",
        "        10/\"3\"\n",
        "      except(ZeroDivisionError,TypeError) as e:\n",
        "        print(\" The division is not possible due to the error\", e)\n",
        "    \n",
        "    output\n",
        "      The division is not possible due to the error unsupported operand type(s) for /: 'int' and 'str'\n",
        "      \n",
        "      try:\n",
        "        10/\"0\"\n",
        "      except(ZeroDivisionError,TypeError) as e:\n",
        "        print(\" The division is not possible due to the error\", e)\n",
        "\n",
        "    output\n",
        "      The division is not possible due to the error division by zerro.\n",
        "\n",
        "    we can also handle multiple exceptions inn seperate blocks."
      ],
      "metadata": {
        "id": "z3hsdnzaHvin"
      }
    },
    {
      "cell_type": "markdown",
      "source": [
        "8) What is the purpose of the with statement when handling files in Python?\n",
        "    \n",
        "    -) The with statement in Python is used for resource management and exception handling. It simplifies working with resources like files, network connections and database connections by ensuring they are properly acquired and released. When we open a file, we need to close it ourself using close(). But if something goes wrong before closing, the file might stay open, causing issues. Using with open() automatically closes the file when we're done, even if an error happens.\n",
        "\n",
        "    eg:\n",
        "\n",
        "      file = open(\"example.txt\", \"r\")\n",
        "      try:\n",
        "        content = file.read()\n",
        "        print(content)\n",
        "      finally:\n",
        "        file.close()\n",
        "\n",
        "    output\n",
        "\n",
        "      Hello, World!"
      ],
      "metadata": {
        "id": "Goh9K6dtH3LQ"
      }
    },
    {
      "cell_type": "markdown",
      "source": [
        "9) What is the difference between multithreading and multiprocessing?\n",
        "    \n",
        "    -) (A)\n",
        "      **Multiprocessing** is a system that has more than one or two processors. In Multiprocessing, CPUs are added to increase the computing speed of the system. Because of Multiprocessing, There are many processes are executed simultaneously. Explore more about similar topics.\n",
        "    \n",
        "    Multiprocessing is classified into two categories:\n",
        "    (a)Asymmetric Multiprocessing\n",
        "    (b)Symmetric Multiprocessing\n",
        "\n",
        "      **Multithreading** is a system in which multiple threads are created of a process for increasing the computing speed of the system. In multithreading, many threads of a process are executed simultaneously and process creation in multithreading is done according to economical.\n",
        "\n",
        "    (B)In Multiprocessing, Process creation is a time-consuming process. While in Multithreading, process creation is according to economical.\n",
        "\n",
        "    (c)In Multiprocessing, every process owned a separate address space. While in Multithreading, a common address space is shared by all the threads.\n",
        "\n",
        "    (D)In Multiprocessing, Many processes are executed simultaneously.While in multithreading, many threads of a process are executed simultaneously.\n"
      ],
      "metadata": {
        "id": "OTGHHjkIH-pc"
      }
    },
    {
      "cell_type": "markdown",
      "source": [
        "10) What are the advantages of using logging in a program?\n",
        "    \n",
        "    -) The advantages of using logging in a program are given below-\n",
        "\n",
        "    (A) It helps debug errors easily.\n",
        "\n",
        "    (B) It's more perceptive than traceback methods.\n",
        "\n",
        "    (C )It can be used to save info on warnings, errors and other events.\n",
        "\n",
        "    (D)Logs can analyze the history of the program and provide insights, patterns and trends."
      ],
      "metadata": {
        "id": "VuYPPiOvIH0-"
      }
    },
    {
      "cell_type": "markdown",
      "source": [
        "11) What is memory management in Python?\n",
        "    \n",
        "    -) Memory allocation is important to any software developer as writing efficient code means writing a memory-efficient code. Memory allocation can be defined as allocating a block of space in the computer memory to a program. In Python memory allocation and deallocation method is automatic as the Python developers created a garbage collector for Python so that the user does not have to do manual garbage collection.\n",
        "    "
      ],
      "metadata": {
        "id": "mEci_Kq0I_h1"
      }
    },
    {
      "cell_type": "markdown",
      "source": [
        "12)  What are the basic steps involved in exception handling in Python?\n",
        "\n",
        "    -)"
      ],
      "metadata": {
        "id": "sApbiVVOI8g6"
      }
    },
    {
      "cell_type": "markdown",
      "source": [
        "13)  Why is memory management important in Python?\n",
        "\n",
        "    -)"
      ],
      "metadata": {
        "id": "bLotDR3uJPAh"
      }
    },
    {
      "cell_type": "markdown",
      "source": [
        "14)  What is the role of try and except in exception handling?\n",
        "\n",
        "    -)\n",
        "  ** Try Block**: It test a block of code for errors. Python will \"try\" to execute the code in this block. If an exception occurs, execution will immediately jump to the except block.\n",
        "  \n",
        "  **Except Block**: except block enables us to handle the error or exception. If the code inside the try block throws an error, Python jumps to the except block and executes it. We can handle specific exceptions or use a general except to catch all exceptions."
      ],
      "metadata": {
        "id": "lkP668vQJUca"
      }
    },
    {
      "cell_type": "markdown",
      "source": [
        "15)  How does Python's garbage collection system work?\n",
        "\n",
        "    -) Garbage collection is a process in which the interpreter frees up the memory when not in use to make it available for other objects. Assume a case where no reference is pointing to an object in memory i.e. it is not in use so, the virtual machine has a garbage collector that automatically deletes that object from the heap memory Note: For more information, refer to Garbage Collection in Python."
      ],
      "metadata": {
        "id": "x7rzbQMWJZnb"
      }
    },
    {
      "cell_type": "markdown",
      "source": [
        "16) What is the purpose of the else block in exception handling?\n",
        "\n",
        "    -)\n",
        "      **else Block**: else block is optional and if included, must follow all except blocks. The else block runs only if no exceptions are raised in the try block. This is useful for code that should execute if the try block succeeds.\n",
        "\n",
        "      else block runs if no exception occurs, displaying the result."
      ],
      "metadata": {
        "id": "TcDzTQIXJf3R"
      }
    },
    {
      "cell_type": "markdown",
      "source": [
        "17) What are the common logging levels in Python?\n",
        "\n",
        "    -) There are six levels for logging in Python; each level is associated with an integer that indicates the log severity:\n",
        "      NOTSET=0, DEBUG=10, INFO=20, WARN=30, ERROR=40, and CRITICAL=50"
      ],
      "metadata": {
        "id": "NAt2fORCJtY4"
      }
    },
    {
      "cell_type": "markdown",
      "source": [
        "18) What is the difference between os.fork() and multiprocessing in Python?\n",
        "\n",
        "    -)\n",
        "      **os.fork()**:\n",
        "      \n",
        "      This system call creates a copy of the current process. The child process is nearly identical to the parent, inheriting its memory space and resources. It's a low-level operation, primarily available on Unix-like systems, and requires careful handling of shared resources to avoid issues like deadlocks.\n",
        "\n",
        "      **multiprocessing**:\n",
        "\n",
        "      This module provides a higher-level interface for creating and managing processes. It offers more control over process creation and communication, including options for sharing data and synchronizing execution. It also supports different start methods such as \"spawn\" and \"forkserver\" which provide better isolation and avoid some of the pitfalls of os.fork(), especially in multithreaded environments."
      ],
      "metadata": {
        "id": "06fxR9naJ5ls"
      }
    },
    {
      "cell_type": "markdown",
      "source": [
        "19) What is the importance of closing a file in Python?\n",
        "\n",
        "    -)  After finishing the working with a file, we always make sure to close it using the close() method. This will release the system resources and ensure the integrity of our data."
      ],
      "metadata": {
        "id": "fPZeIOnzKAde"
      }
    },
    {
      "cell_type": "markdown",
      "source": [
        "20) What is the difference between file.read() and file.readline() in Python?\n",
        "\n",
        "    -) file.read() and file.readline() are both methods used to read data from a file in Python, but they differ in how much data they read and return:\n",
        "\n",
        "      **file.read()**:\n",
        "\n",
        "      This method reads the entire file content as a single string. If a size argument is provided (e.g., file.read(10)), it reads up to that number of bytes. If the file is large, file.read() might consume a lot of memory since it loads the entire file into memory.\n",
        "\n",
        "     ** file.readline()**:\n",
        "\n",
        "      This method reads a single line from the file, including the newline character (\\n) at the end, and returns it as a string. Subsequent calls to file.readline() will read the next line, and so on. If there are no more lines to read, it returns an empty string. This method is memory-efficient for large files as it reads one line at a time."
      ],
      "metadata": {
        "id": "DStJ0P7xKFG5"
      }
    },
    {
      "cell_type": "markdown",
      "source": [
        "21) What is the logging module in Python used for?\\\n",
        "\n",
        "    -)"
      ],
      "metadata": {
        "id": "aGPQvNLsVzQb"
      }
    },
    {
      "cell_type": "markdown",
      "source": [
        "22) What is the os module in Python used for in file handling?\n",
        "\n",
        "    -) The os. system() method in Python is a powerful utility that allows you to execute shell commands directly from a Python script. This function bridges the Python environment and the underlying operating system, enabling you to interact with the command-line interface seamlessly."
      ],
      "metadata": {
        "id": "oBEjbSRMWAa4"
      }
    },
    {
      "cell_type": "markdown",
      "source": [
        "23) What are the challenges associated with memory management in Python?\n",
        "\n",
        "    -) several challenges are given below-\n",
        "\n",
        "      (A)Garbage Collection Overhead:\n",
        "\n",
        "      Python employs garbage collection to reclaim unused memory. While beneficial, this process can introduce performance overhead, especially with frequent or large collections, leading to pauses and unpredictable execution times.\n",
        "      \n",
        "      (B)Memory Leaks:\n",
        "\n",
        "      Despite garbage collection, memory leaks can still occur, particularly with circular references (where objects refer to each other, preventing their reference counts from reaching zero) or when external resources are not properly released.\n",
        "\n",
        "      (C)High Memory Consumption:\n",
        "\n",
        "      Python's dynamic typing and object-oriented nature can result in higher memory usage compared to languages like C or C++. Each object carries metadata, and data structures may have inherent overhead, leading to increased memory footprint.\n",
        "      \n",
        "      (D)Memory Fragmentation:\n",
        "\n",
        "      Over time, memory can become fragmented, with small, non-contiguous blocks available. This can hinder the allocation of larger objects, even if sufficient total memory exists.\n",
        "      \n",
        "      (E)Limited Control:\n",
        "\n",
        "      Python abstracts away low-level memory management, offering limited control to developers. This can be problematic in performance-critical applications where fine-grained memory control is needed.\n"
      ],
      "metadata": {
        "id": "ig4HLbxOWHGN"
      }
    },
    {
      "cell_type": "markdown",
      "source": [
        "24)  How do you raise an exception manually in Python?\n",
        "\n",
        "    -) To raise an exception manually in Python, the raise keyword is used, followed by the exception class or an instance of an exception class. Optionally, a custom error message can be included to provide more context about the exception."
      ],
      "metadata": {
        "id": "irKwyhPQWNRA"
      }
    },
    {
      "cell_type": "markdown",
      "source": [
        "25) Why is it important to use multithreading in certain applications?\n",
        "\n",
        "    -) Multithreading is a crucial concept in modern computing that allows multiple threads to execute concurrently, enabling more efficient utilization of system resources. By breaking down tasks into smaller threads, applications can achieve higher performance, better responsiveness, and enhanced scalability. Whether it's handling multiple user requests or performing complex operations in parallel, multithreading is an essential technique in both single-processor and multi-processor systems. This article explores the key benefits of multithreading and how it contributes to optimizing program execution."
      ],
      "metadata": {
        "id": "e5raxFIVWS2B"
      }
    },
    {
      "cell_type": "markdown",
      "source": [
        "#PRACTICAL ANSWER"
      ],
      "metadata": {
        "id": "lhsJ1wKfWXJ6"
      }
    },
    {
      "cell_type": "code",
      "source": [
        "#1) How can you open a file for writing in Python and write a string to iT?\n",
        "\n",
        "with open(\"example.txt\", \"w\") as file:\n",
        "    file.write(\"Hello, world!/n\" \"how are you?\")\n"
      ],
      "metadata": {
        "collapsed": true,
        "id": "4m5ebHdIWgLF"
      },
      "execution_count": null,
      "outputs": []
    },
    {
      "cell_type": "code",
      "source": [
        "#2) Write a Python program to read the contents of a file and print each line?\n",
        "\n",
        "with open(\"example.txt\", \"r\") as file:\n",
        "    lines = file.readlines()\n",
        "    for line in lines:\n",
        "        print(line.strip())"
      ],
      "metadata": {
        "colab": {
          "base_uri": "https://localhost:8080/"
        },
        "collapsed": true,
        "id": "Mj5BAtA5W7xS",
        "outputId": "604ba965-a87c-4baa-db28-f834d09f4beb"
      },
      "execution_count": null,
      "outputs": [
        {
          "output_type": "stream",
          "name": "stdout",
          "text": [
            "Hello, world!/nhow are you?\n"
          ]
        }
      ]
    },
    {
      "cell_type": "code",
      "source": [
        "#3) How would you handle a case where the file doesn't exist while trying to open it for reading?\n",
        "try:\n",
        "  with open(\"example.txt100\",\"r\")\n",
        "\n"
      ],
      "metadata": {
        "id": "yQei4GF7XDT1"
      },
      "execution_count": null,
      "outputs": []
    },
    {
      "cell_type": "code",
      "source": [
        "#4) Write a Python script that reads from one file and writes its content to another file?\n",
        "\n",
        "with open(\"example.txt\", \"r\") as file1:\n",
        "    content = file1.read()\n",
        "    with open(\"example2.txt\", \"w\") as file2:\n",
        "        file2.write(content)"
      ],
      "metadata": {
        "id": "3vP4whYRXJXw"
      },
      "execution_count": null,
      "outputs": []
    },
    {
      "cell_type": "code",
      "source": [
        "#5) How would you catch and handle division by zero error in Python?\n",
        "try:\n",
        "    result = 10 / 0\n",
        "except ZeroDivisionError:\n",
        "    print(\"Error: Division by zero\")"
      ],
      "metadata": {
        "id": "K9zPI3M_XOR8",
        "colab": {
          "base_uri": "https://localhost:8080/"
        },
        "outputId": "a43e193c-7f78-49f6-ec33-f3c8fb55d51f"
      },
      "execution_count": 1,
      "outputs": [
        {
          "output_type": "stream",
          "name": "stdout",
          "text": [
            "Error: Division by zero\n"
          ]
        }
      ]
    },
    {
      "cell_type": "code",
      "source": [
        "#6) Write a Python program that logs an error message to a log file when a division by zero exception occurs?\n",
        "try:\n",
        "    result = 10 / 0\n",
        "except ZeroDivisionError:\n",
        "    with open(\"error.log\", \"w\") as file:\n",
        "        file.write(\"Error: Division by zero\")"
      ],
      "metadata": {
        "id": "JwewXsipXT-Y"
      },
      "execution_count": 2,
      "outputs": []
    },
    {
      "cell_type": "code",
      "source": [
        "#7) How do you log information at different levels (INFO, ERROR, WARNING) in Python using the logging module?\n",
        "import logging\n",
        "\n",
        "logging.basicConfig(level=logging.INFO)\n",
        "logging.info(\"This is an informational message\")\n",
        "\n",
        "logging.basicConfig(level=logging.ERROR)\n",
        "logging.error(\"This is an error message\")"
      ],
      "metadata": {
        "id": "q-mDTKQ6Xakj",
        "colab": {
          "base_uri": "https://localhost:8080/"
        },
        "outputId": "c5b7e225-b899-4add-a124-fd7db9010812"
      },
      "execution_count": 22,
      "outputs": [
        {
          "output_type": "stream",
          "name": "stderr",
          "text": [
            "ERROR:root:This is an error message\n"
          ]
        }
      ]
    },
    {
      "cell_type": "code",
      "source": [
        "#8) Write a program to handle a file opening error using exception handling?\n",
        "try:\n",
        "    with open(\"nonexistent.txt\", \"r\") as file:\n",
        "        content = file.read()\n",
        "except FileNotFoundError:\n",
        "    print(\"Error: File not found\")"
      ],
      "metadata": {
        "id": "ZcdX-maPXgSm",
        "colab": {
          "base_uri": "https://localhost:8080/"
        },
        "outputId": "27d99762-ae84-4973-a29d-b775cecf9a91"
      },
      "execution_count": 5,
      "outputs": [
        {
          "output_type": "stream",
          "name": "stdout",
          "text": [
            "Error: File not found\n"
          ]
        }
      ]
    },
    {
      "cell_type": "code",
      "source": [
        "#9) How can you read a file line by line and store its content in a list in Python?\n",
        "\n",
        "try:\n",
        "    with open(\"example.txt\", \"r\") as file:\n",
        "        lines = file.readlines()\n",
        "        for line in lines:\n",
        "            print(line.strip())\n",
        "except FileNotFoundError:\n",
        "    print(\"Error: File not found\")"
      ],
      "metadata": {
        "id": "ZO0DHQDoXnbS",
        "colab": {
          "base_uri": "https://localhost:8080/"
        },
        "outputId": "0714930e-3147-46db-df1d-b2dcb2986998"
      },
      "execution_count": 6,
      "outputs": [
        {
          "output_type": "stream",
          "name": "stdout",
          "text": [
            "Error: File not found\n"
          ]
        }
      ]
    },
    {
      "cell_type": "code",
      "source": [
        "#10) How can you append data to an existing file in Python?\n",
        "try:\n",
        "    with open(\"example.txt\", \"a\") as file:\n",
        "        file.write(\"This is a new line\")\n",
        "except FileNotFoundError:\n",
        "    print(\"Error: File not found\")\n",
        "\n"
      ],
      "metadata": {
        "id": "9WwieJxtXtx5"
      },
      "execution_count": 17,
      "outputs": []
    },
    {
      "cell_type": "code",
      "source": [
        "#11)  Write a Python program that uses a try-except block to handle an error when attempting to access a dictionary key that doesn't exist?\n",
        "try:\n",
        "    my_dict = {\"a\": 1, \"b\": 2}\n",
        "    value = my_dict[\"c\"]\n",
        "except KeyError:\n",
        "    print(\"Error: Key not found in dictionary\")"
      ],
      "metadata": {
        "id": "mUvs45FUX0AG",
        "colab": {
          "base_uri": "https://localhost:8080/"
        },
        "outputId": "1ecf88e7-0c67-417a-e5c6-f98e52dd204a"
      },
      "execution_count": 7,
      "outputs": [
        {
          "output_type": "stream",
          "name": "stdout",
          "text": [
            "Error: Key not found in dictionary\n"
          ]
        }
      ]
    },
    {
      "cell_type": "code",
      "source": [
        "#12)  Write a program that demonstrates using multiple except blocks to handle different types of exceptions?\n",
        "try:\n",
        "    result = 10 / 0\n",
        "except ZeroDivisionError:\n",
        "    print(\"Error: Division by zero\")\n",
        "except TypeError:\n",
        "    print(\"Error: Type error\")\n",
        "\n",
        ""
      ],
      "metadata": {
        "id": "WKQewknrX8_s",
        "colab": {
          "base_uri": "https://localhost:8080/"
        },
        "outputId": "66a04a11-0d87-431e-c79a-61ee00f6ef2a"
      },
      "execution_count": 16,
      "outputs": [
        {
          "output_type": "stream",
          "name": "stdout",
          "text": [
            "Error: Division by zero\n"
          ]
        }
      ]
    },
    {
      "cell_type": "code",
      "source": [
        "#13)  How would you check if a file exists before attempting to read it in Python?\n",
        "try:\n",
        "    with open(\"example.txt\", \"r\") as file:\n",
        "        content = file.read()\n",
        "except FileNotFoundError:\n",
        "    print(\"Error: File not found\")"
      ],
      "metadata": {
        "id": "VN6x5vipYFm3"
      },
      "execution_count": 18,
      "outputs": []
    },
    {
      "cell_type": "code",
      "source": [
        "#14)  Write a program that uses the logging module to log both informational and error messages?\n",
        "import logging\n",
        "\n",
        "logging.basicConfig(level=logging.INFO)\n",
        "logging.info(\"This is an informational message\")\n",
        "\n",
        "logging.basicConfig(level=logging.ERROR)\n",
        "logging.error(\"This is an error message\")"
      ],
      "metadata": {
        "id": "YZdpdOxiYLgp",
        "colab": {
          "base_uri": "https://localhost:8080/"
        },
        "outputId": "e73284c6-c03c-465b-ec37-27bde8958dc5"
      },
      "execution_count": 19,
      "outputs": [
        {
          "output_type": "stream",
          "name": "stderr",
          "text": [
            "ERROR:root:This is an error message\n"
          ]
        }
      ]
    },
    {
      "cell_type": "code",
      "source": [
        "#15)  Write a Python program that prints the content of a file and handles the case when the file is empty?\n",
        "try:\n",
        "    with open(\"example.txt\", \"r\") as file:\n",
        "        content = file.read()\n",
        "        if content:\n",
        "            print(content)\n",
        "        else:\n",
        "            print(\"Error: File is empty\")\n",
        "except FileNotFoundError:\n",
        "    print(\"Error: File not found\")"
      ],
      "metadata": {
        "id": "E5DDfsywYROR",
        "colab": {
          "base_uri": "https://localhost:8080/"
        },
        "outputId": "ab3a6a58-c75f-470a-8a86-bd41678cc61e"
      },
      "execution_count": 24,
      "outputs": [
        {
          "output_type": "stream",
          "name": "stdout",
          "text": [
            "This is a new line\n"
          ]
        }
      ]
    },
    {
      "cell_type": "code",
      "source": [
        "#16)  Demonstrate how to use memory profiling to check the memory usage of a small program?\n",
        "try:\n",
        "    result = 10 / 0\n",
        "except ZeroDivisionError:\n",
        "    print(\"Error: Division by zero\")"
      ],
      "metadata": {
        "id": "WSFOicXLZWwJ",
        "colab": {
          "base_uri": "https://localhost:8080/"
        },
        "outputId": "0f9a58b0-3e06-4aa6-e7b1-7977db606d13"
      },
      "execution_count": 25,
      "outputs": [
        {
          "output_type": "stream",
          "name": "stdout",
          "text": [
            "Error: Division by zero\n"
          ]
        }
      ]
    },
    {
      "cell_type": "code",
      "source": [
        "#17)  Write a Python program to create and write a list of numbers to a file, one number per line?\n",
        "try:\n",
        "    numbers = [1, 2, 3, 4, 5]\n",
        "    with open(\"numbers.txt\", \"w\") as file:\n",
        "        for number in numbers:\n",
        "            file.write(str(number) + \"\\n\")\n",
        "except Exception as e:\n",
        "    print(f\"An error occurred: {e}\")"
      ],
      "metadata": {
        "id": "3m7pIuRwZb3A"
      },
      "execution_count": 28,
      "outputs": []
    },
    {
      "cell_type": "code",
      "source": [
        "#18)   How would you implement a basic logging setup that logs to a file with rotation after 1MB?\n",
        "try:\n",
        "    result = 10 / 0\n",
        "except ZeroDivisionError:\n",
        "    print(\"Error: Division by zero\")"
      ],
      "metadata": {
        "id": "rrMkuw49Z2UB",
        "colab": {
          "base_uri": "https://localhost:8080/"
        },
        "outputId": "59023ebe-5e75-4937-b45c-1efca3b4d2e6"
      },
      "execution_count": 29,
      "outputs": [
        {
          "output_type": "stream",
          "name": "stdout",
          "text": [
            "Error: Division by zero\n"
          ]
        }
      ]
    },
    {
      "cell_type": "code",
      "source": [
        "#19)     Write a program that handles both IndexError and KeyError using a try-except block?\n",
        "try:\n",
        "    my_dict = {\"a\": 1, \"b\": 2}\n",
        "    value = my_dict[\"c\"]\n",
        "except KeyError:\n",
        "    print(\"Error: Key not found in dictionary\")\n",
        "except IndexError:\n",
        "    print(\"Error: Index out of range\")"
      ],
      "metadata": {
        "id": "Y9qmlsELZ7Y-",
        "colab": {
          "base_uri": "https://localhost:8080/"
        },
        "outputId": "49723e6c-792c-4b53-ca1f-28546c7def3d"
      },
      "execution_count": 30,
      "outputs": [
        {
          "output_type": "stream",
          "name": "stdout",
          "text": [
            "Error: Key not found in dictionary\n"
          ]
        }
      ]
    },
    {
      "cell_type": "code",
      "source": [
        "#20)    How would you open a file and read its contents using a context manager in Python?\n",
        "try:\n",
        "    with open(\"example.txt\", \"r\") as file:\n",
        "        content = file.read()\n",
        "        print(content)\n",
        "except FileNotFoundError:\n",
        "    print(\"Error: File not found\")\n"
      ],
      "metadata": {
        "id": "9W7qPf5SaBA8",
        "colab": {
          "base_uri": "https://localhost:8080/"
        },
        "outputId": "11688ea8-48ed-40ab-910a-49e10ea5f31c"
      },
      "execution_count": 31,
      "outputs": [
        {
          "output_type": "stream",
          "name": "stdout",
          "text": [
            "This is a new line\n"
          ]
        }
      ]
    },
    {
      "cell_type": "code",
      "source": [
        "#21)   Write a Python program that reads a file and prints the number of occurrences of a specific word?\n",
        "try:\n",
        "    with open(\"example.txt\", \"r\") as file:\n",
        "        content = file.read()\n",
        "        word_count = content.count(\"word\")\n",
        "        print(\"Number of occurrences of 'word':\", word_count)\n",
        "except FileNotFoundError:\n",
        "    print(\"File not found.\")"
      ],
      "metadata": {
        "id": "pUEMTRgkaG72",
        "colab": {
          "base_uri": "https://localhost:8080/"
        },
        "outputId": "acf85182-9126-4972-8143-cebf0708f673"
      },
      "execution_count": 34,
      "outputs": [
        {
          "output_type": "stream",
          "name": "stdout",
          "text": [
            "Number of occurrences of 'word': 0\n"
          ]
        }
      ]
    },
    {
      "cell_type": "code",
      "source": [
        "#22)   How can you check if a file is empty before attempting to read its contents?\n",
        "try:\n",
        "    with open(\"example.txt\", \"r\") as file:\n",
        "        content = file.read()\n",
        "        if content:\n",
        "            print(content)\n",
        "        else:\n",
        "            print(\"File is empty.\")\n",
        "except FileNotFoundError:\n",
        "    print(\"File not found.\")\n"
      ],
      "metadata": {
        "id": "WECsjTadaNTA",
        "colab": {
          "base_uri": "https://localhost:8080/"
        },
        "outputId": "f92ffede-31ab-40bb-a74d-3bba27d6386d"
      },
      "execution_count": 36,
      "outputs": [
        {
          "output_type": "stream",
          "name": "stdout",
          "text": [
            "This is a new line\n"
          ]
        }
      ]
    },
    {
      "cell_type": "code",
      "source": [
        "#23)   Write a Python program that writes to a log file when an error occurs during file handling?\n",
        "try:\n",
        "  with open(\"example.txt\", \"r\") as file:\n",
        "    content = file.read()\n",
        "except FileNotFoundError:\n",
        "  with open(\"log.txt\", \"a\") as log_file:\n",
        "    log_file.write(\"File not found: example.txt\\n\")"
      ],
      "metadata": {
        "id": "V8OZNcHGaTZB"
      },
      "execution_count": 40,
      "outputs": []
    }
  ]
}